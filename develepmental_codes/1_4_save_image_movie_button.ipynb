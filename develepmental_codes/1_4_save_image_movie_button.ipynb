{
 "cells": [
  {
   "cell_type": "markdown",
   "metadata": {},
   "source": [
    "# Adding image save button"
   ]
  },
  {
   "cell_type": "code",
   "execution_count": 1,
   "metadata": {},
   "outputs": [],
   "source": [
    "import threading\n",
    "\n",
    "from IPython.display import display,Image, clear_output\n",
    "import ipywidgets\n",
    "\n",
    "\n",
    "import logging\n",
    "import numpy as np\n",
    "import cv2\n",
    "from collections import deque\n",
    "import skimage\n",
    "import time\n",
    "from datetime import datetime\n",
    "\n",
    "import os"
   ]
  },
  {
   "cell_type": "code",
   "execution_count": 2,
   "metadata": {},
   "outputs": [],
   "source": [
    "class OutputWidgetHandler(logging.Handler):\n",
    "    \"\"\"\n",
    "    Custom logging handler sending logs to an output widget\n",
    "    https://ipywidgets.readthedocs.io/en/latest/examples/Output%20Widget.html#Integrating-output-widgets-with-the-logging-module:\n",
    "    \"\"\"\n",
    "    def __init__(self, *args, **kwargs):\n",
    "        super(OutputWidgetHandler, self).__init__(*args, **kwargs)\n",
    "        layout = {\n",
    "            'width': '80%',\n",
    "            'height': '100px',\n",
    "            'border': '1px solid black'\n",
    "        }\n",
    "        #self.out = ipywidgets.Output(layout=layout)\n",
    "        self.out = ipywidgets.Textarea(layout=layout)\n",
    "        #self.out = ipywidgets.Output()\n",
    "\n",
    "    def emit(self, record):\n",
    "        \"\"\" Overload of logging.Handler method \"\"\"\n",
    "        formatted_record = self.format(record) + \"\\n\"\n",
    "        #new_output = {\n",
    "        #    'name': 'stdout',\n",
    "        #    'output_type': 'stream',\n",
    "        #    'text': formatted_record+'\\n'\n",
    "        #}\n",
    "        #self.out.outputs = (new_output, ) + self.out.outputs\n",
    "        self.out.value = formatted_record + self.out.value\n",
    "        #memory limit. limit to 1Mb?\n",
    "        self.out.value[:1000000]\n",
    "\n",
    "    def show_logs(self):\n",
    "        \"\"\" Show the logs \"\"\"\n",
    "        #prob not used?\n",
    "        display(self.out)\n",
    "\n",
    "    def clear_logs(self):\n",
    "        \"\"\" Clear the current logs \"\"\"\n",
    "        self.out.clear_output()"
   ]
  },
  {
   "cell_type": "code",
   "execution_count": 3,
   "metadata": {
    "code_folding": [
     1
    ]
   },
   "outputs": [],
   "source": [
    "def gui_simple(image_analysis_func = None):    \n",
    "    def core(camera):\n",
    "        def _capture(_):\n",
    "            '''\n",
    "            capture the current input image and save to a file \n",
    "            '''\n",
    "            filename = datetime.now().strftime(\"%Y%m%d_%H%M%S\")\n",
    "            orig_file = os.path.join(path,filename + \"_1.jpg\")\n",
    "            cv2.imwrite(os.path.join(path,orig_file),orig_image)\n",
    "            \n",
    "            if (image_analysis_func is not None) and image_analysis_widget.value ==True:\n",
    "                #save the image analysed fle\n",
    "                processed_file = os.path.join(path,filename + \"_2.jpg\")                \n",
    "                cv2.imwrite(os.path.join(path,processed_file),image)\n",
    "                logger.info(\"images saved as %s and %s\", orig_file,processed_file)\n",
    "            else:\n",
    "                logger.info(\"images saved as %s\", orig_file)\n",
    "                \n",
    "        def _wrapper(func,image):\n",
    "            '''\n",
    "            wrapper of a image analysis function so that image, log will always be outputed\n",
    "            '''\n",
    "            ret = func(image)\n",
    "            if type(ret).__module__ == np.__name__: # if returned value is a numpy (which means, image only)\n",
    "                log = \"\" # pseudo log value\n",
    "                image = ret\n",
    "            elif type(ret) == tuple: # if returned value is multiple, ex. image, log \n",
    "                image, log = ret            \n",
    "            return image, log\n",
    "        \n",
    "        def live(state_widget, camera,image_widget, log_widget,acquire_image_widget):\n",
    "            nonlocal fps, q, n_frame, orig_image, image\n",
    "            while state_widget.value == 'connect':\n",
    "                _, image = camera.read()\n",
    "                if image is not None:\n",
    "                    orig_image = image.copy()\n",
    "                    if (image_analysis_func is not None) and image_analysis_widget.value ==True:\n",
    "                        image, log = _wrapper(image_analysis_func, image)                        \n",
    "                    image_widget.value = bytes(cv2.imencode('.jpg', image)[1])\n",
    "                \n",
    "                #calculate fps\n",
    "                now = time.time()\n",
    "                fps = n_frame / (now - q.popleft())\n",
    "                q.append(now)\n",
    "                fps_widget.value = \"fps: \" + str(fps)\n",
    "                \n",
    "                acquire_image_widget.on_click(_capture)\n",
    "                \n",
    "\n",
    "        def flag(change):\n",
    "            nonlocal camera\n",
    "            \n",
    "            if change['new'] == 'exit':\n",
    "                camera.release()\n",
    "                clear_output()\n",
    "                #gc.collect()\n",
    "                print(\"program ended properly\")\n",
    "                \n",
    "            if change['new'] == 'disconnect':\n",
    "                image_widget.value = bytes(cv2.imencode('.jpg',image)[1])\n",
    "                camera.release()\n",
    "                logger.info('Camera Disconnected')\n",
    "                \n",
    "            if change['new'] == 'connect':\n",
    "                if camera.isOpened() == False:\n",
    "                    camera = cv2.VideoCapture(0)\n",
    "                    \n",
    "                args = (state_widget, camera, image_widget,handler.out,acquire_image_widget)\n",
    "                execute_thread = threading.Thread(target=live, args=args)\n",
    "                execute_thread.start() \n",
    "                logger.info('Starting program')\n",
    "\n",
    "            if change['new'] == 'pause':\n",
    "                logger.info('Pausing program')\n",
    "                pass\n",
    "\n",
    "        #splash = skimage.data.camera()[...,::-1]\n",
    "        splash = np.zeros(shape=(100,200,3))\n",
    "        \n",
    "        #fps calculation\n",
    "        fps = 0\n",
    "        n_frame = 3\n",
    "        q = deque([time.time() for i in range(n_frame)])\n",
    "        image = splash\n",
    "        orig_image = splash\n",
    "\n",
    "        #widgets else than log \n",
    "        state_widget = ipywidgets.ToggleButtons(options=['exit','disconnect','pause', 'connect'], description='', value='pause')\n",
    "        state_widget.observe(flag, names='value')\n",
    "        \n",
    "        image_widget = ipywidgets.Image(format='jpeg',value=bytes(cv2.imencode('.jpg',image)[1]), layout={'width':'80%'})\n",
    "        fps_widget = ipywidgets.Text(value=\"fps: \"+str(fps))\n",
    "        image_analysis_widget = ipywidgets.Checkbox(value=False,description=\"apply image analysis\")\n",
    "        \n",
    "        acquire_image_widget = ipywidgets.Button(description=\"acquire image\", tooltip=\"acquire image\")\n",
    "\n",
    "        live_execution_widget = ipywidgets.VBox([\n",
    "            state_widget,\n",
    "            acquire_image_widget,\n",
    "            image_analysis_widget,\n",
    "            image_widget, #main\n",
    "            fps_widget, #fps\n",
    "            handler.out, #log\n",
    "        ])\n",
    "\n",
    "        display(live_execution_widget)\n",
    "\n",
    "    \n",
    "    #initialization\n",
    "    \n",
    "    #log function\n",
    "    logger = logging.getLogger(__name__)\n",
    "    handler = OutputWidgetHandler() #handler.out is the ipywidgets.Textarea\n",
    "    handler.setFormatter(logging.Formatter('%(asctime)s  - [%(levelname)s] %(message)s'))\n",
    "    logger.addHandler(handler)\n",
    "    logger.setLevel(logging.INFO)\n",
    "    #handler.clear_logs()\n",
    "    \n",
    "    path = os.path.join(os.getcwd(),\"data\")\n",
    "    if not os.path.exists(path):\n",
    "        os.makedirs(path)\n",
    "    logger.info(\"images will be saved to %s\", path)\n",
    "    \n",
    "    try:\n",
    "        camera = cv2.VideoCapture(0)\n",
    "    except:\n",
    "        #sometimes the camera is already opened\n",
    "        pass\n",
    "    assert camera.isOpened(), print(\"camera not detected\")\n",
    "    core(camera)\n"
   ]
  },
  {
   "cell_type": "code",
   "execution_count": 4,
   "metadata": {},
   "outputs": [],
   "source": [
    "def image_filter(image):\n",
    "    '''\n",
    "    input image is a BGR image with a dtype of uint8 from cv2.VideoCapture\n",
    "    image to be returned should also be a BGR of uint8.\n",
    "    becareful if you use skimage function, as they prefer float.\n",
    "    the returned value should be\n",
    "        image (height,width,channel)\n",
    "        or\n",
    "        image and string(for logging inthe log window)\n",
    "    '''\n",
    "    image = cv2.cvtColor(image, cv2.COLOR_BGR2GRAY)  #convert to grayscale image\n",
    "    return image\n"
   ]
  },
  {
   "cell_type": "code",
   "execution_count": 5,
   "metadata": {},
   "outputs": [
    {
     "name": "stdout",
     "output_type": "stream",
     "text": [
      "program ended properly\n"
     ]
    }
   ],
   "source": [
    "gui_simple(image_filter)"
   ]
  },
  {
   "cell_type": "markdown",
   "metadata": {},
   "source": [
    "# Browse Function"
   ]
  },
  {
   "cell_type": "code",
   "execution_count": 6,
   "metadata": {
    "code_folding": [
     0
    ]
   },
   "outputs": [
    {
     "data": {
      "application/vnd.jupyter.widget-view+json": {
       "model_id": "bbe829bef8ad4fbcb53968b8c48baacb",
       "version_major": 2,
       "version_minor": 0
      },
      "text/plain": [
       "VBox(children=(Dropdown(description='File Name:', options=('20200811_154547', '20200811_154606', '20200811_155…"
      ]
     },
     "metadata": {},
     "output_type": "display_data"
    }
   ],
   "source": [
    "def browse(image_dir):\n",
    "    def on_change(change):\n",
    "        #print(change)\n",
    "        matches = [x for x in files if x.startswith(change[\"new\"])]\n",
    "        #print(change[\"new\"])\n",
    "        images = [cv2.imread(os.path.join(\"./data\",x)) for x in matches]\n",
    "        image = cv2.hconcat([x for x in images])\n",
    "        image_widget.value = bytes(cv2.imencode('.jpg', image)[1])\n",
    "        \n",
    "    files = os.listdir(image_dir)\n",
    "    unique_files = sorted(set([x[:-6] for x in files]))\n",
    "    #suffix = _1.jpg so :-6 makes it unique\n",
    "    \n",
    "    dropdown_widget = ipywidgets.Dropdown(\n",
    "        options=unique_files,\n",
    "        value=unique_files[0],\n",
    "        description='File Name:',\n",
    "        disabled=False,)\n",
    "    dropdown_widget.observe(on_change, names='value')\n",
    "    \n",
    "    matches = [x for x in files if x.startswith(dropdown_widget.value)]\n",
    "    images = np.array([cv2.imread(os.path.join(\"./data\",x)) for x in matches] )\n",
    "    image = cv2.hconcat([x for x in images])\n",
    "    \n",
    "    image_widget = ipywidgets.Image(format='jpeg',value=bytes(cv2.imencode('.jpg',image)[1]), layout={'width':'80%'})\n",
    "    \n",
    "    widgets = ipywidgets.VBox([\n",
    "        dropdown_widget,\n",
    "        image_widget\n",
    "        ])\n",
    "    display(widgets)\n",
    "    \n",
    "browse(\"./data\")\n",
    "    "
   ]
  },
  {
   "cell_type": "code",
   "execution_count": null,
   "metadata": {},
   "outputs": [],
   "source": []
  },
  {
   "cell_type": "code",
   "execution_count": null,
   "metadata": {},
   "outputs": [],
   "source": []
  }
 ],
 "metadata": {
  "kernelspec": {
   "display_name": "microscope",
   "language": "python",
   "name": "microscope"
  },
  "language_info": {
   "codemirror_mode": {
    "name": "ipython",
    "version": 3
   },
   "file_extension": ".py",
   "mimetype": "text/x-python",
   "name": "python",
   "nbconvert_exporter": "python",
   "pygments_lexer": "ipython3",
   "version": "3.6.9"
  },
  "toc": {
   "base_numbering": 1,
   "nav_menu": {},
   "number_sections": true,
   "sideBar": true,
   "skip_h1_title": false,
   "title_cell": "Table of Contents",
   "title_sidebar": "Contents",
   "toc_cell": false,
   "toc_position": {},
   "toc_section_display": true,
   "toc_window_display": true
  }
 },
 "nbformat": 4,
 "nbformat_minor": 4
}

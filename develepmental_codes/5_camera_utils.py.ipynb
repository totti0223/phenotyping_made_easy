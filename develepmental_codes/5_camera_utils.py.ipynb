{
 "cells": [
  {
   "cell_type": "code",
   "execution_count": 1,
   "metadata": {
    "scrolled": false
   },
   "outputs": [],
   "source": [
    "#check the camera compatibility and get a dictionary\n",
    "import subprocess\n",
    "import re\n",
    "\n",
    "def scan_camera_settings(camera_id):\n",
    "    #this command is for linux only\n",
    "    cmd = 'v4l2-ctl --device /dev/video' + str(camera_id) + ' --list-formats-ext'\n",
    "    proc = subprocess.Popen(cmd.split(), stdout=subprocess.PIPE)\n",
    "    outs_bytes = proc.communicate()[0]\n",
    "    outs_str = outs_bytes.decode('utf-8')\n",
    "    assert \"Failed\" not in outs_str, \"failed to fetch information. check connection or camera id.\"\n",
    "    outs_str_lists = outs_str.split('\\n')\n",
    "    d = {}\n",
    "    i = 0\n",
    "    for line in outs_str_lists:\n",
    "        if \"Pixel Format\" in line:\n",
    "            pixelformat = line.split(\":\")[-1].strip()\n",
    "        if \"Size:\" in line:\n",
    "            resolution = line.split()[-1]\n",
    "        if \"Interval\" in line:\n",
    "            fps = re.findall(\"(?<=\\().+?(?=\\))\",line)[0].split()[0]\n",
    "            _d = {\"format\":pixelformat,\"height\":resolution.split(\"x\")[1],\"width\":resolution.split(\"x\")[0],\"fps\":fps}\n",
    "            d[i] = _d\n",
    "            i +=1\n",
    "    return d"
   ]
  },
  {
   "cell_type": "code",
   "execution_count": 2,
   "metadata": {
    "scrolled": true
   },
   "outputs": [
    {
     "name": "stdout",
     "output_type": "stream",
     "text": [
      "{0: {'format': \"'MJPG' (compressed)\", 'height': '2880', 'width': '3840', 'fps': '15.000'}, 1: {'format': \"'MJPG' (compressed)\", 'height': '2880', 'width': '3840', 'fps': '10.000'}, 2: {'format': \"'MJPG' (compressed)\", 'height': '2880', 'width': '3840', 'fps': '5.000'}, 3: {'format': \"'MJPG' (compressed)\", 'height': '2448', 'width': '3264', 'fps': '20.000'}, 4: {'format': \"'MJPG' (compressed)\", 'height': '2448', 'width': '3264', 'fps': '15.000'}, 5: {'format': \"'MJPG' (compressed)\", 'height': '2448', 'width': '3264', 'fps': '10.000'}, 6: {'format': \"'MJPG' (compressed)\", 'height': '2448', 'width': '3264', 'fps': '5.000'}, 7: {'format': \"'MJPG' (compressed)\", 'height': '2160', 'width': '3840', 'fps': '25.000'}, 8: {'format': \"'MJPG' (compressed)\", 'height': '2160', 'width': '3840', 'fps': '20.000'}, 9: {'format': \"'MJPG' (compressed)\", 'height': '2160', 'width': '3840', 'fps': '15.000'}, 10: {'format': \"'MJPG' (compressed)\", 'height': '2160', 'width': '3840', 'fps': '10.000'}, 11: {'format': \"'MJPG' (compressed)\", 'height': '2160', 'width': '3840', 'fps': '5.000'}, 12: {'format': \"'MJPG' (compressed)\", 'height': '1944', 'width': '2592', 'fps': '20.000'}, 13: {'format': \"'MJPG' (compressed)\", 'height': '1944', 'width': '2592', 'fps': '15.000'}, 14: {'format': \"'MJPG' (compressed)\", 'height': '1944', 'width': '2592', 'fps': '10.000'}, 15: {'format': \"'MJPG' (compressed)\", 'height': '1944', 'width': '2592', 'fps': '5.000'}, 16: {'format': \"'MJPG' (compressed)\", 'height': '1536', 'width': '2048', 'fps': '30.000'}, 17: {'format': \"'MJPG' (compressed)\", 'height': '1536', 'width': '2048', 'fps': '25.000'}, 18: {'format': \"'MJPG' (compressed)\", 'height': '1536', 'width': '2048', 'fps': '20.000'}, 19: {'format': \"'MJPG' (compressed)\", 'height': '1536', 'width': '2048', 'fps': '15.000'}, 20: {'format': \"'MJPG' (compressed)\", 'height': '1536', 'width': '2048', 'fps': '10.000'}, 21: {'format': \"'MJPG' (compressed)\", 'height': '1536', 'width': '2048', 'fps': '5.000'}, 22: {'format': \"'MJPG' (compressed)\", 'height': '1200', 'width': '1600', 'fps': '30.000'}, 23: {'format': \"'MJPG' (compressed)\", 'height': '1200', 'width': '1600', 'fps': '25.000'}, 24: {'format': \"'MJPG' (compressed)\", 'height': '1200', 'width': '1600', 'fps': '20.000'}, 25: {'format': \"'MJPG' (compressed)\", 'height': '1200', 'width': '1600', 'fps': '15.000'}, 26: {'format': \"'MJPG' (compressed)\", 'height': '1200', 'width': '1600', 'fps': '10.000'}, 27: {'format': \"'MJPG' (compressed)\", 'height': '1200', 'width': '1600', 'fps': '5.000'}, 28: {'format': \"'MJPG' (compressed)\", 'height': '1080', 'width': '1920', 'fps': '30.000'}, 29: {'format': \"'MJPG' (compressed)\", 'height': '1080', 'width': '1920', 'fps': '25.000'}, 30: {'format': \"'MJPG' (compressed)\", 'height': '1080', 'width': '1920', 'fps': '20.000'}, 31: {'format': \"'MJPG' (compressed)\", 'height': '1080', 'width': '1920', 'fps': '15.000'}, 32: {'format': \"'MJPG' (compressed)\", 'height': '1080', 'width': '1920', 'fps': '10.000'}, 33: {'format': \"'MJPG' (compressed)\", 'height': '1080', 'width': '1920', 'fps': '5.000'}, 34: {'format': \"'MJPG' (compressed)\", 'height': '960', 'width': '1280', 'fps': '30.000'}, 35: {'format': \"'MJPG' (compressed)\", 'height': '960', 'width': '1280', 'fps': '25.000'}, 36: {'format': \"'MJPG' (compressed)\", 'height': '960', 'width': '1280', 'fps': '20.000'}, 37: {'format': \"'MJPG' (compressed)\", 'height': '960', 'width': '1280', 'fps': '15.000'}, 38: {'format': \"'MJPG' (compressed)\", 'height': '960', 'width': '1280', 'fps': '10.000'}, 39: {'format': \"'MJPG' (compressed)\", 'height': '960', 'width': '1280', 'fps': '5.000'}, 40: {'format': \"'MJPG' (compressed)\", 'height': '720', 'width': '1280', 'fps': '30.000'}, 41: {'format': \"'MJPG' (compressed)\", 'height': '720', 'width': '1280', 'fps': '25.000'}, 42: {'format': \"'MJPG' (compressed)\", 'height': '720', 'width': '1280', 'fps': '20.000'}, 43: {'format': \"'MJPG' (compressed)\", 'height': '720', 'width': '1280', 'fps': '15.000'}, 44: {'format': \"'MJPG' (compressed)\", 'height': '720', 'width': '1280', 'fps': '10.000'}, 45: {'format': \"'MJPG' (compressed)\", 'height': '720', 'width': '1280', 'fps': '5.000'}, 46: {'format': \"'MJPG' (compressed)\", 'height': '768', 'width': '1024', 'fps': '30.000'}, 47: {'format': \"'MJPG' (compressed)\", 'height': '768', 'width': '1024', 'fps': '25.000'}, 48: {'format': \"'MJPG' (compressed)\", 'height': '768', 'width': '1024', 'fps': '20.000'}, 49: {'format': \"'MJPG' (compressed)\", 'height': '768', 'width': '1024', 'fps': '15.000'}, 50: {'format': \"'MJPG' (compressed)\", 'height': '768', 'width': '1024', 'fps': '10.000'}, 51: {'format': \"'MJPG' (compressed)\", 'height': '768', 'width': '1024', 'fps': '5.000'}, 52: {'format': \"'MJPG' (compressed)\", 'height': '600', 'width': '800', 'fps': '30.000'}, 53: {'format': \"'MJPG' (compressed)\", 'height': '600', 'width': '800', 'fps': '25.000'}, 54: {'format': \"'MJPG' (compressed)\", 'height': '600', 'width': '800', 'fps': '20.000'}, 55: {'format': \"'MJPG' (compressed)\", 'height': '600', 'width': '800', 'fps': '15.000'}, 56: {'format': \"'MJPG' (compressed)\", 'height': '600', 'width': '800', 'fps': '10.000'}, 57: {'format': \"'MJPG' (compressed)\", 'height': '600', 'width': '800', 'fps': '5.000'}, 58: {'format': \"'MJPG' (compressed)\", 'height': '480', 'width': '640', 'fps': '30.000'}, 59: {'format': \"'MJPG' (compressed)\", 'height': '480', 'width': '640', 'fps': '25.000'}, 60: {'format': \"'MJPG' (compressed)\", 'height': '480', 'width': '640', 'fps': '20.000'}, 61: {'format': \"'MJPG' (compressed)\", 'height': '480', 'width': '640', 'fps': '15.000'}, 62: {'format': \"'MJPG' (compressed)\", 'height': '480', 'width': '640', 'fps': '10.000'}, 63: {'format': \"'MJPG' (compressed)\", 'height': '480', 'width': '640', 'fps': '5.000'}, 64: {'format': \"'YUYV'\", 'height': '2880', 'width': '3840', 'fps': '1.000'}, 65: {'format': \"'YUYV'\", 'height': '2448', 'width': '3264', 'fps': '1.000'}, 66: {'format': \"'YUYV'\", 'height': '2160', 'width': '3840', 'fps': '1.000'}, 67: {'format': \"'YUYV'\", 'height': '1944', 'width': '2592', 'fps': '1.000'}, 68: {'format': \"'YUYV'\", 'height': '1536', 'width': '2048', 'fps': '3.000'}, 69: {'format': \"'YUYV'\", 'height': '1200', 'width': '1600', 'fps': '5.000'}, 70: {'format': \"'YUYV'\", 'height': '1080', 'width': '1920', 'fps': '5.000'}, 71: {'format': \"'YUYV'\", 'height': '960', 'width': '1280', 'fps': '5.000'}, 72: {'format': \"'YUYV'\", 'height': '720', 'width': '1280', 'fps': '10.000'}, 73: {'format': \"'YUYV'\", 'height': '720', 'width': '1280', 'fps': '5.000'}, 74: {'format': \"'YUYV'\", 'height': '768', 'width': '1024', 'fps': '15.000'}, 75: {'format': \"'YUYV'\", 'height': '768', 'width': '1024', 'fps': '10.000'}, 76: {'format': \"'YUYV'\", 'height': '768', 'width': '1024', 'fps': '5.000'}, 77: {'format': \"'YUYV'\", 'height': '600', 'width': '800', 'fps': '20.000'}, 78: {'format': \"'YUYV'\", 'height': '600', 'width': '800', 'fps': '15.000'}, 79: {'format': \"'YUYV'\", 'height': '600', 'width': '800', 'fps': '10.000'}, 80: {'format': \"'YUYV'\", 'height': '600', 'width': '800', 'fps': '5.000'}, 81: {'format': \"'YUYV'\", 'height': '480', 'width': '640', 'fps': '30.000'}, 82: {'format': \"'YUYV'\", 'height': '480', 'width': '640', 'fps': '25.000'}, 83: {'format': \"'YUYV'\", 'height': '480', 'width': '640', 'fps': '20.000'}, 84: {'format': \"'YUYV'\", 'height': '480', 'width': '640', 'fps': '15.000'}, 85: {'format': \"'YUYV'\", 'height': '480', 'width': '640', 'fps': '10.000'}, 86: {'format': \"'YUYV'\", 'height': '480', 'width': '640', 'fps': '5.000'}}\n"
     ]
    }
   ],
   "source": [
    "settings = scan_camera_settings(0)\n",
    "print(settings)"
   ]
  },
  {
   "cell_type": "code",
   "execution_count": 37,
   "metadata": {},
   "outputs": [],
   "source": [
    "#https://qiita.com/opto-line/items/7ade854c26a50a485159\n",
    "params = ['MSEC',\n",
    "            'POS_FRAMES',\n",
    "            'POS_AVI_RATIO',\n",
    "            'FRAME_WIDTH',\n",
    "            'FRAME_HEIGHT',\n",
    "            'PROP_FPS',\n",
    "            'PROP_FOURCC',\n",
    "            'FRAME_COUNT',\n",
    "            'FORMAT',\n",
    "            'MODE',\n",
    "            'BRIGHTNESS',\n",
    "            'CONTRAST',\n",
    "            'SATURATION',\n",
    "            'HUE',\n",
    "            'GAIN',\n",
    "            'EXPOSURE',\n",
    "            'CONVERT_RGB',\n",
    "            'WHITE_BALANCE',\n",
    "            'RECTIFICATION']\n",
    "#for num in range(19):\n",
    "#        print(params[num], ':', cap.get(num))"
   ]
  },
  {
   "cell_type": "code",
   "execution_count": 45,
   "metadata": {},
   "outputs": [],
   "source": [
    "import cv2\n",
    "cap = cv2.VideoCapture(0,200)\n",
    "#https://docs.opencv.org/3.4/d4/d15/group__videoio__flags__base.html"
   ]
  },
  {
   "cell_type": "code",
   "execution_count": 47,
   "metadata": {},
   "outputs": [
    {
     "name": "stdout",
     "output_type": "stream",
     "text": [
      "2880.0 3840.0 15.0 200.0\n",
      "(2880, 3840, 3)\n"
     ]
    }
   ],
   "source": [
    "FPS = 15\n",
    "HEIGHT = 2880\n",
    "WIDTH = 3840\n",
    "\n",
    "cap.set(cv2.CAP_PROP_FOURCC, cv2.VideoWriter_fourcc(*\"MJPG\"))\n",
    "\n",
    "cap.set(cv2.CAP_PROP_FRAME_HEIGHT, HEIGHT)\n",
    "cap.set(cv2.CAP_PROP_FRAME_WIDTH, WIDTH)\n",
    "#cap.set(cv2.CAP_PROP_FPS, FPS)\n",
    "\n",
    "\n",
    "# フォーマット・解像度・FPSの取得\n",
    "fourcc =cap.get(cv2.CAP_PROP_FOURCC)\n",
    "width = cap.get(cv2.CAP_PROP_FRAME_WIDTH)\n",
    "height = cap.get(cv2.CAP_PROP_FRAME_HEIGHT)\n",
    "fps = cap.get(cv2.CAP_PROP_FPS)\n",
    "backend = cap.get(cv2.CAP_PROP_BACKEND) #default 1800, gstream\n",
    "\n",
    "print(height,width,fps,backend)\n",
    "_,frame = cap.read()\n",
    "#assert _ == True, \"error\"\n",
    "print(frame.shape)"
   ]
  },
  {
   "cell_type": "code",
   "execution_count": 43,
   "metadata": {},
   "outputs": [
    {
     "data": {
      "text/plain": [
       "1800.0"
      ]
     },
     "execution_count": 43,
     "metadata": {},
     "output_type": "execute_result"
    }
   ],
   "source": []
  },
  {
   "cell_type": "code",
   "execution_count": 48,
   "metadata": {},
   "outputs": [],
   "source": [
    "cap.release()"
   ]
  },
  {
   "cell_type": "code",
   "execution_count": 11,
   "metadata": {},
   "outputs": [
    {
     "data": {
      "text/plain": [
       "\"*'MJPG'\""
      ]
     },
     "execution_count": 11,
     "metadata": {},
     "output_type": "execute_result"
    }
   ],
   "source": [
    "FOURCC"
   ]
  },
  {
   "cell_type": "code",
   "execution_count": null,
   "metadata": {},
   "outputs": [],
   "source": [
    "*\"MJPG\""
   ]
  }
 ],
 "metadata": {
  "kernelspec": {
   "display_name": "microscope",
   "language": "python",
   "name": "microscope"
  },
  "language_info": {
   "codemirror_mode": {
    "name": "ipython",
    "version": 3
   },
   "file_extension": ".py",
   "mimetype": "text/x-python",
   "name": "python",
   "nbconvert_exporter": "python",
   "pygments_lexer": "ipython3",
   "version": "3.6.9"
  },
  "toc": {
   "base_numbering": 1,
   "nav_menu": {},
   "number_sections": true,
   "sideBar": true,
   "skip_h1_title": false,
   "title_cell": "Table of Contents",
   "title_sidebar": "Contents",
   "toc_cell": false,
   "toc_position": {
    "height": "calc(100% - 180px)",
    "left": "10px",
    "top": "150px",
    "width": "384px"
   },
   "toc_section_display": true,
   "toc_window_display": true
  }
 },
 "nbformat": 4,
 "nbformat_minor": 4
}

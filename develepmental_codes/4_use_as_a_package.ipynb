{
 "cells": [
  {
   "cell_type": "code",
   "execution_count": 1,
   "metadata": {},
   "outputs": [],
   "source": [
    "import sys\n",
    "sys.path.append(\"../\")"
   ]
  },
  {
   "cell_type": "code",
   "execution_count": 2,
   "metadata": {},
   "outputs": [],
   "source": [
    "import cv2\n",
    "import numpy as np\n",
    "import inspect"
   ]
  },
  {
   "cell_type": "code",
   "execution_count": 3,
   "metadata": {},
   "outputs": [],
   "source": [
    "import pme"
   ]
  },
  {
   "cell_type": "code",
   "execution_count": 5,
   "metadata": {
    "code_folding": []
   },
   "outputs": [],
   "source": [
    "#will be put into pipeline_collection.py\n",
    "\n",
    "def template(image):\n",
    "    '''\n",
    "    the simplest format of a image_analysis pipline\n",
    "    \n",
    "    Parameters\n",
    "    ----------\n",
    "    input : np.array\n",
    "        shape = (height, width, channel) in BGR order. dtype is uint8. data retreived from cv2.Videocapture().\n",
    "    \n",
    "    Returns\n",
    "    -------\n",
    "    rets : dictionary\n",
    "        dictionary keys:\n",
    "            images: np.array or a list of np.arrays\n",
    "                - ex. np.array  [np.array, np.array] ...\n",
    "                - Mandatory. The returned images in addition to the input image will be saved upon acquitision.\n",
    "            csv_logs: list or nested list\n",
    "            stream_logs: str or list or np.array\n",
    "        \n",
    "    '''    \n",
    "    \n",
    "\n",
    "    \n",
    "def custom_pipeline(image):\n",
    "    '''\n",
    "    input image is a BGR image with a dtype of uint8 from cv2.VideoCapture\n",
    "    image to be returned should also be a BGR of uint8.\n",
    "    becareful if you use skimage function, as they prefer float.\n",
    "    '''\n",
    "    gray = cv2.cvtColor(image, cv2.COLOR_BGR2GRAY)  #convert to grayscale image\n",
    "    ret, black = cv2.threshold(gray,100,255,cv2.THRESH_BINARY)\n",
    "    val = np.mean(black.flatten())\n",
    "    \n",
    "    rets = {\n",
    "        \"images\": [gray, black],\n",
    "        \"csv_logs\": val,\n",
    "        \"stream_logs\": \"mean brightness of image:\" + str(val),\n",
    "    }\n",
    "    \n",
    "    return rets"
   ]
  },
  {
   "cell_type": "code",
   "execution_count": 6,
   "metadata": {},
   "outputs": [
    {
     "name": "stdout",
     "output_type": "stream",
     "text": [
      "program ended properly\n"
     ]
    }
   ],
   "source": [
    "_= pme.stream(pipeline_func = custom_pipeline, camera_id=0)"
   ]
  },
  {
   "cell_type": "code",
   "execution_count": null,
   "metadata": {},
   "outputs": [],
   "source": []
  }
 ],
 "metadata": {
  "kernelspec": {
   "display_name": "microscope",
   "language": "python",
   "name": "microscope"
  },
  "language_info": {
   "codemirror_mode": {
    "name": "ipython",
    "version": 3
   },
   "file_extension": ".py",
   "mimetype": "text/x-python",
   "name": "python",
   "nbconvert_exporter": "python",
   "pygments_lexer": "ipython3",
   "version": "3.6.9"
  },
  "toc": {
   "base_numbering": 1,
   "nav_menu": {},
   "number_sections": true,
   "sideBar": true,
   "skip_h1_title": false,
   "title_cell": "Table of Contents",
   "title_sidebar": "Contents",
   "toc_cell": false,
   "toc_position": {},
   "toc_section_display": true,
   "toc_window_display": true
  }
 },
 "nbformat": 4,
 "nbformat_minor": 4
}

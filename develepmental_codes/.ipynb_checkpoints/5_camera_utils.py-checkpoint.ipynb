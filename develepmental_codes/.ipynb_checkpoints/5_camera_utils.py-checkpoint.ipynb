{
 "cells": [
  {
   "cell_type": "code",
   "execution_count": 65,
   "metadata": {
    "scrolled": true
   },
   "outputs": [],
   "source": [
    "# check the camera compatibility and get a dictionary\n",
    "import subprocess\n",
    "import re\n",
    "import cv2\n",
    "\n",
    "\n",
    "def scan_camera_settings(camera_id, camera_backend=None):\n",
    "    def _v4l2(camera_id):\n",
    "        # this command is for linux only\n",
    "        cmd = 'v4l2-ctl --device /dev/video' + \\\n",
    "            str(camera_id) + ' --list-formats-ext'\n",
    "        proc = subprocess.Popen(cmd.split(), stdout=subprocess.PIPE)\n",
    "        outs_bytes = proc.communicate()[0]\n",
    "        outs_str = outs_bytes.decode('utf-8')\n",
    "        assert \"Failed\" not in outs_str, \"failed to fetch information. check connection or camera id.\"\n",
    "        outs_str_lists = outs_str.split('\\n')\n",
    "        d = {}\n",
    "        i = 0\n",
    "        for line in outs_str_lists:\n",
    "            if \"Pixel Format\" in line:\n",
    "                pixelformat = line.split(\":\")[-1].strip()\n",
    "                if \"MJPG\" in pixelformat:\n",
    "                    pixelformat = ['M', 'J', 'P', 'G']\n",
    "                elif \"YUYV\" in pixelformat:\n",
    "                    pixelformat = ['Y', 'U', 'Y', 'V']                \n",
    "            if \"Size:\" in line:\n",
    "                resolution = line.split()[-1]\n",
    "            if \"Interval\" in line:\n",
    "                fps = re.findall(\"(?<=\\().+?(?=\\))\", line)[0].split()[0]\n",
    "                _d = {\"format\": pixelformat, \"height\": int(resolution.split(\n",
    "                    \"x\")[1]), \"width\": int(resolution.split(\"x\")[0]), \"fps\": int(float(fps))}\n",
    "                d[i] = _d\n",
    "                i += 1\n",
    "        return d\n",
    "    d = _v4l2(camera_id)\n",
    "    camera_list = []\n",
    "    for k, v in d.items():\n",
    "        camera_list.append(v)\n",
    "    return camera_list\n",
    "\n",
    "camera_list = scan_camera_settings(0)"
   ]
  },
  {
   "cell_type": "code",
   "execution_count": 66,
   "metadata": {
    "scrolled": true
   },
   "outputs": [
    {
     "data": {
      "text/plain": [
       "[{'format': ['M', 'J', 'P', 'G'], 'height': 2880, 'width': 3840, 'fps': 15},\n",
       " {'format': ['M', 'J', 'P', 'G'], 'height': 2880, 'width': 3840, 'fps': 10},\n",
       " {'format': ['M', 'J', 'P', 'G'], 'height': 2880, 'width': 3840, 'fps': 5},\n",
       " {'format': ['M', 'J', 'P', 'G'], 'height': 2448, 'width': 3264, 'fps': 20},\n",
       " {'format': ['M', 'J', 'P', 'G'], 'height': 2448, 'width': 3264, 'fps': 15},\n",
       " {'format': ['M', 'J', 'P', 'G'], 'height': 2448, 'width': 3264, 'fps': 10},\n",
       " {'format': ['M', 'J', 'P', 'G'], 'height': 2448, 'width': 3264, 'fps': 5},\n",
       " {'format': ['M', 'J', 'P', 'G'], 'height': 2160, 'width': 3840, 'fps': 25},\n",
       " {'format': ['M', 'J', 'P', 'G'], 'height': 2160, 'width': 3840, 'fps': 20},\n",
       " {'format': ['M', 'J', 'P', 'G'], 'height': 2160, 'width': 3840, 'fps': 15},\n",
       " {'format': ['M', 'J', 'P', 'G'], 'height': 2160, 'width': 3840, 'fps': 10},\n",
       " {'format': ['M', 'J', 'P', 'G'], 'height': 2160, 'width': 3840, 'fps': 5},\n",
       " {'format': ['M', 'J', 'P', 'G'], 'height': 1944, 'width': 2592, 'fps': 20},\n",
       " {'format': ['M', 'J', 'P', 'G'], 'height': 1944, 'width': 2592, 'fps': 15},\n",
       " {'format': ['M', 'J', 'P', 'G'], 'height': 1944, 'width': 2592, 'fps': 10},\n",
       " {'format': ['M', 'J', 'P', 'G'], 'height': 1944, 'width': 2592, 'fps': 5},\n",
       " {'format': ['M', 'J', 'P', 'G'], 'height': 1536, 'width': 2048, 'fps': 30},\n",
       " {'format': ['M', 'J', 'P', 'G'], 'height': 1536, 'width': 2048, 'fps': 25},\n",
       " {'format': ['M', 'J', 'P', 'G'], 'height': 1536, 'width': 2048, 'fps': 20},\n",
       " {'format': ['M', 'J', 'P', 'G'], 'height': 1536, 'width': 2048, 'fps': 15},\n",
       " {'format': ['M', 'J', 'P', 'G'], 'height': 1536, 'width': 2048, 'fps': 10},\n",
       " {'format': ['M', 'J', 'P', 'G'], 'height': 1536, 'width': 2048, 'fps': 5},\n",
       " {'format': ['M', 'J', 'P', 'G'], 'height': 1200, 'width': 1600, 'fps': 30},\n",
       " {'format': ['M', 'J', 'P', 'G'], 'height': 1200, 'width': 1600, 'fps': 25},\n",
       " {'format': ['M', 'J', 'P', 'G'], 'height': 1200, 'width': 1600, 'fps': 20},\n",
       " {'format': ['M', 'J', 'P', 'G'], 'height': 1200, 'width': 1600, 'fps': 15},\n",
       " {'format': ['M', 'J', 'P', 'G'], 'height': 1200, 'width': 1600, 'fps': 10},\n",
       " {'format': ['M', 'J', 'P', 'G'], 'height': 1200, 'width': 1600, 'fps': 5},\n",
       " {'format': ['M', 'J', 'P', 'G'], 'height': 1080, 'width': 1920, 'fps': 30},\n",
       " {'format': ['M', 'J', 'P', 'G'], 'height': 1080, 'width': 1920, 'fps': 25},\n",
       " {'format': ['M', 'J', 'P', 'G'], 'height': 1080, 'width': 1920, 'fps': 20},\n",
       " {'format': ['M', 'J', 'P', 'G'], 'height': 1080, 'width': 1920, 'fps': 15},\n",
       " {'format': ['M', 'J', 'P', 'G'], 'height': 1080, 'width': 1920, 'fps': 10},\n",
       " {'format': ['M', 'J', 'P', 'G'], 'height': 1080, 'width': 1920, 'fps': 5},\n",
       " {'format': ['M', 'J', 'P', 'G'], 'height': 960, 'width': 1280, 'fps': 30},\n",
       " {'format': ['M', 'J', 'P', 'G'], 'height': 960, 'width': 1280, 'fps': 25},\n",
       " {'format': ['M', 'J', 'P', 'G'], 'height': 960, 'width': 1280, 'fps': 20},\n",
       " {'format': ['M', 'J', 'P', 'G'], 'height': 960, 'width': 1280, 'fps': 15},\n",
       " {'format': ['M', 'J', 'P', 'G'], 'height': 960, 'width': 1280, 'fps': 10},\n",
       " {'format': ['M', 'J', 'P', 'G'], 'height': 960, 'width': 1280, 'fps': 5},\n",
       " {'format': ['M', 'J', 'P', 'G'], 'height': 720, 'width': 1280, 'fps': 30},\n",
       " {'format': ['M', 'J', 'P', 'G'], 'height': 720, 'width': 1280, 'fps': 25},\n",
       " {'format': ['M', 'J', 'P', 'G'], 'height': 720, 'width': 1280, 'fps': 20},\n",
       " {'format': ['M', 'J', 'P', 'G'], 'height': 720, 'width': 1280, 'fps': 15},\n",
       " {'format': ['M', 'J', 'P', 'G'], 'height': 720, 'width': 1280, 'fps': 10},\n",
       " {'format': ['M', 'J', 'P', 'G'], 'height': 720, 'width': 1280, 'fps': 5},\n",
       " {'format': ['M', 'J', 'P', 'G'], 'height': 768, 'width': 1024, 'fps': 30},\n",
       " {'format': ['M', 'J', 'P', 'G'], 'height': 768, 'width': 1024, 'fps': 25},\n",
       " {'format': ['M', 'J', 'P', 'G'], 'height': 768, 'width': 1024, 'fps': 20},\n",
       " {'format': ['M', 'J', 'P', 'G'], 'height': 768, 'width': 1024, 'fps': 15},\n",
       " {'format': ['M', 'J', 'P', 'G'], 'height': 768, 'width': 1024, 'fps': 10},\n",
       " {'format': ['M', 'J', 'P', 'G'], 'height': 768, 'width': 1024, 'fps': 5},\n",
       " {'format': ['M', 'J', 'P', 'G'], 'height': 600, 'width': 800, 'fps': 30},\n",
       " {'format': ['M', 'J', 'P', 'G'], 'height': 600, 'width': 800, 'fps': 25},\n",
       " {'format': ['M', 'J', 'P', 'G'], 'height': 600, 'width': 800, 'fps': 20},\n",
       " {'format': ['M', 'J', 'P', 'G'], 'height': 600, 'width': 800, 'fps': 15},\n",
       " {'format': ['M', 'J', 'P', 'G'], 'height': 600, 'width': 800, 'fps': 10},\n",
       " {'format': ['M', 'J', 'P', 'G'], 'height': 600, 'width': 800, 'fps': 5},\n",
       " {'format': ['M', 'J', 'P', 'G'], 'height': 480, 'width': 640, 'fps': 30},\n",
       " {'format': ['M', 'J', 'P', 'G'], 'height': 480, 'width': 640, 'fps': 25},\n",
       " {'format': ['M', 'J', 'P', 'G'], 'height': 480, 'width': 640, 'fps': 20},\n",
       " {'format': ['M', 'J', 'P', 'G'], 'height': 480, 'width': 640, 'fps': 15},\n",
       " {'format': ['M', 'J', 'P', 'G'], 'height': 480, 'width': 640, 'fps': 10},\n",
       " {'format': ['M', 'J', 'P', 'G'], 'height': 480, 'width': 640, 'fps': 5},\n",
       " {'format': ['Y', 'U', 'Y', 'V'], 'height': 2880, 'width': 3840, 'fps': 1},\n",
       " {'format': ['Y', 'U', 'Y', 'V'], 'height': 2448, 'width': 3264, 'fps': 1},\n",
       " {'format': ['Y', 'U', 'Y', 'V'], 'height': 2160, 'width': 3840, 'fps': 1},\n",
       " {'format': ['Y', 'U', 'Y', 'V'], 'height': 1944, 'width': 2592, 'fps': 1},\n",
       " {'format': ['Y', 'U', 'Y', 'V'], 'height': 1536, 'width': 2048, 'fps': 3},\n",
       " {'format': ['Y', 'U', 'Y', 'V'], 'height': 1200, 'width': 1600, 'fps': 5},\n",
       " {'format': ['Y', 'U', 'Y', 'V'], 'height': 1080, 'width': 1920, 'fps': 5},\n",
       " {'format': ['Y', 'U', 'Y', 'V'], 'height': 960, 'width': 1280, 'fps': 5},\n",
       " {'format': ['Y', 'U', 'Y', 'V'], 'height': 720, 'width': 1280, 'fps': 10},\n",
       " {'format': ['Y', 'U', 'Y', 'V'], 'height': 720, 'width': 1280, 'fps': 5},\n",
       " {'format': ['Y', 'U', 'Y', 'V'], 'height': 768, 'width': 1024, 'fps': 15},\n",
       " {'format': ['Y', 'U', 'Y', 'V'], 'height': 768, 'width': 1024, 'fps': 10},\n",
       " {'format': ['Y', 'U', 'Y', 'V'], 'height': 768, 'width': 1024, 'fps': 5},\n",
       " {'format': ['Y', 'U', 'Y', 'V'], 'height': 600, 'width': 800, 'fps': 20},\n",
       " {'format': ['Y', 'U', 'Y', 'V'], 'height': 600, 'width': 800, 'fps': 15},\n",
       " {'format': ['Y', 'U', 'Y', 'V'], 'height': 600, 'width': 800, 'fps': 10},\n",
       " {'format': ['Y', 'U', 'Y', 'V'], 'height': 600, 'width': 800, 'fps': 5},\n",
       " {'format': ['Y', 'U', 'Y', 'V'], 'height': 480, 'width': 640, 'fps': 30},\n",
       " {'format': ['Y', 'U', 'Y', 'V'], 'height': 480, 'width': 640, 'fps': 25},\n",
       " {'format': ['Y', 'U', 'Y', 'V'], 'height': 480, 'width': 640, 'fps': 20},\n",
       " {'format': ['Y', 'U', 'Y', 'V'], 'height': 480, 'width': 640, 'fps': 15},\n",
       " {'format': ['Y', 'U', 'Y', 'V'], 'height': 480, 'width': 640, 'fps': 10},\n",
       " {'format': ['Y', 'U', 'Y', 'V'], 'height': 480, 'width': 640, 'fps': 5}]"
      ]
     },
     "execution_count": 66,
     "metadata": {},
     "output_type": "execute_result"
    }
   ],
   "source": [
    "camera_list"
   ]
  },
  {
   "cell_type": "code",
   "execution_count": 57,
   "metadata": {},
   "outputs": [],
   "source": [
    "import ipywidgets as widgets\n",
    "from IPython.display import display"
   ]
  },
  {
   "cell_type": "code",
   "execution_count": 58,
   "metadata": {},
   "outputs": [],
   "source": [
    "camera = cv2.VideoCapture(0,200)"
   ]
  },
  {
   "cell_type": "code",
   "execution_count": 62,
   "metadata": {},
   "outputs": [],
   "source": [
    "d = camera_list[0]"
   ]
  },
  {
   "cell_type": "code",
   "execution_count": 63,
   "metadata": {},
   "outputs": [
    {
     "data": {
      "text/plain": [
       "1196444237"
      ]
     },
     "execution_count": 63,
     "metadata": {},
     "output_type": "execute_result"
    }
   ],
   "source": [
    "cv2.VideoWriter_fourcc(*d[\"format\"])"
   ]
  },
  {
   "cell_type": "code",
   "execution_count": null,
   "metadata": {},
   "outputs": [],
   "source": [
    "cv2.VideoWriter_fourcc()"
   ]
  },
  {
   "cell_type": "code",
   "execution_count": 36,
   "metadata": {},
   "outputs": [
    {
     "data": {
      "text/plain": [
       "['M', 'J', 'P', 'G']"
      ]
     },
     "execution_count": 36,
     "metadata": {},
     "output_type": "execute_result"
    }
   ],
   "source": [
    "[*camera_list[0][\"format\"]]"
   ]
  },
  {
   "cell_type": "code",
   "execution_count": 34,
   "metadata": {},
   "outputs": [
    {
     "ename": "TypeError",
     "evalue": "type() takes 1 or 3 arguments",
     "output_type": "error",
     "traceback": [
      "\u001b[0;31m---------------------------------------------------------------------------\u001b[0m",
      "\u001b[0;31mTypeError\u001b[0m                                 Traceback (most recent call last)",
      "\u001b[0;32m<ipython-input-34-ea39aaae8f2f>\u001b[0m in \u001b[0;36m<module>\u001b[0;34m\u001b[0m\n\u001b[0;32m----> 1\u001b[0;31m \u001b[0mtype\u001b[0m\u001b[0;34m(\u001b[0m\u001b[0;34m*\u001b[0m\u001b[0;34m\"MJPG\"\u001b[0m\u001b[0;34m)\u001b[0m\u001b[0;34m\u001b[0m\u001b[0;34m\u001b[0m\u001b[0m\n\u001b[0m",
      "\u001b[0;31mTypeError\u001b[0m: type() takes 1 or 3 arguments"
     ]
    }
   ],
   "source": [
    "type(*\"MJPG\")"
   ]
  },
  {
   "cell_type": "code",
   "execution_count": 53,
   "metadata": {},
   "outputs": [
    {
     "data": {
      "application/vnd.jupyter.widget-view+json": {
       "model_id": "60dbcc634b574eedb18debc7f338a553",
       "version_major": 2,
       "version_minor": 0
      },
      "text/plain": [
       "Dropdown(description='Camera_Settings:', layout=Layout(width='95%'), options=({'format': ['M', 'J', 'P', 'G'],…"
      ]
     },
     "metadata": {},
     "output_type": "display_data"
    }
   ],
   "source": [
    "dd = widgets.Dropdown(\n",
    "    options=camera_list,\n",
    "    value=camera_list[0],\n",
    "    description='Camera_Settings:',\n",
    "    disabled=False, layout={\"width\": \"95%\"},style={'description_width': 'initial'}\n",
    ")\n",
    "def camera_change_flag(change):\n",
    "    d = change[\"new\"]\n",
    "    \n",
    "    if self.camera.isOpened():\n",
    "        self.camera.set(cv2.CAP_PROP_FRAME_HEIGHT,d[\"height\"])\n",
    "        self.camera.set(cv2.CAP_PROP_FRAME_WIDTH, d[\"width\"])\n",
    "        self.camera.set(cv2.CAP_PROP_FOURCC, cv2.VideoWriter_fourcc(*d[\"format\"]))\n",
    "        self.camera.set(cv2.CAP_PROP_FPS, d[\"fps\"])\n",
    "        self.logger.info(\"changed settings to: %s\"&d)\n",
    "    else:\n",
    "        self.logger.info(\"camera must be connected before changing settings\")\n",
    "    \n",
    "display(dd)\n",
    "dd.observe(camera_change, names='value')"
   ]
  },
  {
   "cell_type": "code",
   "execution_count": 64,
   "metadata": {},
   "outputs": [
    {
     "name": "stdout",
     "output_type": "stream",
     "text": [
      "(480, 640, 3)\n"
     ]
    }
   ],
   "source": [
    "_,frame = camera.read()\n",
    "print(frame.shape)\n",
    "camera.release()"
   ]
  },
  {
   "cell_type": "code",
   "execution_count": 37,
   "metadata": {},
   "outputs": [],
   "source": [
    "#https://qiita.com/opto-line/items/7ade854c26a50a485159\n",
    "params = ['MSEC',\n",
    "            'POS_FRAMES',\n",
    "            'POS_AVI_RATIO',\n",
    "            'FRAME_WIDTH',\n",
    "            'FRAME_HEIGHT',\n",
    "            'PROP_FPS',\n",
    "            'PROP_FOURCC',\n",
    "            'FRAME_COUNT',\n",
    "            'FORMAT',\n",
    "            'MODE',\n",
    "            'BRIGHTNESS',\n",
    "            'CONTRAST',\n",
    "            'SATURATION',\n",
    "            'HUE',\n",
    "            'GAIN',\n",
    "            'EXPOSURE',\n",
    "            'CONVERT_RGB',\n",
    "            'WHITE_BALANCE',\n",
    "            'RECTIFICATION']\n",
    "#for num in range(19):\n",
    "#        print(params[num], ':', cap.get(num))"
   ]
  },
  {
   "cell_type": "code",
   "execution_count": 55,
   "metadata": {},
   "outputs": [],
   "source": [
    "import cv2\n",
    "cap = cv2.VideoCapture(0,200)\n",
    "#https://docs.opencv.org/3.4/d4/d15/group__videoio__flags__base.html"
   ]
  },
  {
   "cell_type": "code",
   "execution_count": 56,
   "metadata": {},
   "outputs": [
    {
     "name": "stdout",
     "output_type": "stream",
     "text": [
      "2880.0 3840.0 15.0 200.0\n",
      "(2880, 3840, 3)\n"
     ]
    }
   ],
   "source": [
    "fourcc = ['M','J','P','G']\n",
    "FPS = 15\n",
    "HEIGHT = 2880\n",
    "WIDTH = 3840\n",
    "\n",
    "cap.set(cv2.CAP_PROP_FOURCC, cv2.VideoWriter_fourcc(*fourcc))\n",
    "\n",
    "cap.set(cv2.CAP_PROP_FRAME_HEIGHT, HEIGHT)\n",
    "cap.set(cv2.CAP_PROP_FRAME_WIDTH, WIDTH)\n",
    "#cap.set(cv2.CAP_PROP_FPS, FPS)\n",
    "\n",
    "\n",
    "# フォーマット・解像度・FPSの取得\n",
    "fourcc =cap.get(cv2.CAP_PROP_FOURCC)\n",
    "width = cap.get(cv2.CAP_PROP_FRAME_WIDTH)\n",
    "height = cap.get(cv2.CAP_PROP_FRAME_HEIGHT)\n",
    "fps = cap.get(cv2.CAP_PROP_FPS)\n",
    "backend = cap.get(cv2.CAP_PROP_BACKEND) #default 1800, gstream\n",
    "\n",
    "print(height,width,fps,backend)\n",
    "_,frame = cap.read()\n",
    "#assert _ == True, \"error\"\n",
    "print(frame.shape)"
   ]
  },
  {
   "cell_type": "code",
   "execution_count": 43,
   "metadata": {},
   "outputs": [
    {
     "data": {
      "text/plain": [
       "1800.0"
      ]
     },
     "execution_count": 43,
     "metadata": {},
     "output_type": "execute_result"
    }
   ],
   "source": []
  },
  {
   "cell_type": "code",
   "execution_count": 57,
   "metadata": {},
   "outputs": [],
   "source": [
    "cap.release()"
   ]
  },
  {
   "cell_type": "code",
   "execution_count": 11,
   "metadata": {},
   "outputs": [
    {
     "data": {
      "text/plain": [
       "\"*'MJPG'\""
      ]
     },
     "execution_count": 11,
     "metadata": {},
     "output_type": "execute_result"
    }
   ],
   "source": [
    "FOURCC"
   ]
  },
  {
   "cell_type": "code",
   "execution_count": null,
   "metadata": {},
   "outputs": [],
   "source": [
    "*\"MJPG\""
   ]
  }
 ],
 "metadata": {
  "kernelspec": {
   "display_name": "microscope",
   "language": "python",
   "name": "microscope"
  },
  "language_info": {
   "codemirror_mode": {
    "name": "ipython",
    "version": 3
   },
   "file_extension": ".py",
   "mimetype": "text/x-python",
   "name": "python",
   "nbconvert_exporter": "python",
   "pygments_lexer": "ipython3",
   "version": "3.6.9"
  },
  "toc": {
   "base_numbering": 1,
   "nav_menu": {},
   "number_sections": true,
   "sideBar": true,
   "skip_h1_title": false,
   "title_cell": "Table of Contents",
   "title_sidebar": "Contents",
   "toc_cell": false,
   "toc_position": {
    "height": "calc(100% - 180px)",
    "left": "10px",
    "top": "150px",
    "width": "165px"
   },
   "toc_section_display": true,
   "toc_window_display": false
  }
 },
 "nbformat": 4,
 "nbformat_minor": 4
}

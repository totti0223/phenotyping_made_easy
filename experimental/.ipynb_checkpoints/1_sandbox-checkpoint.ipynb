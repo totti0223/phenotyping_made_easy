{
 "cells": [
  {
   "cell_type": "markdown",
   "metadata": {},
   "source": [
    "to do\n",
    "- test mode (image analysis module dev with a test image for input output check )\n",
    "- acquire image mode-\n",
    "-"
   ]
  },
  {
   "cell_type": "code",
   "execution_count": 1,
   "metadata": {},
   "outputs": [],
   "source": [
    "import threading, time, datetime\n",
    "from io import BytesIO\n",
    "import logging\n",
    "from collections import deque\n",
    "\n",
    "import PIL.Image\n",
    "from IPython.display import display,Image, clear_output\n",
    "#from jupyter_clickable_image_widget import ClickableImageWidget\n",
    "import ipywidgets\n",
    "\n",
    "import numpy as np\n",
    "import cv2\n",
    "\n",
    "import gc\n",
    "import sys"
   ]
  },
  {
   "cell_type": "code",
   "execution_count": 2,
   "metadata": {},
   "outputs": [],
   "source": [
    "import skimage\n",
    "from skimage.util import img_as_ubyte\n",
    "\n",
    "from skimage.io import imread\n",
    "import os\n",
    "filename = os.path.join(skimage.data_dir, 'camera.png')\n",
    "camera = imread(filename)"
   ]
  },
  {
   "cell_type": "code",
   "execution_count": 3,
   "metadata": {},
   "outputs": [],
   "source": [
    "from skimage.transform import resize"
   ]
  },
  {
   "cell_type": "markdown",
   "metadata": {},
   "source": [
    "imageのdtype check -> np.uint8 かどうか。\n",
    "ちがったら、skimageのutilのimg_as_ubyteでuint8にしてからimageを返すようにする"
   ]
  },
  {
   "cell_type": "code",
   "execution_count": 13,
   "metadata": {},
   "outputs": [
    {
     "data": {
      "text/plain": [
       "array([[156.    , 156.    , 157.    , ..., 153.    , 153.    , 151.38  ],\n",
       "       [155.    , 156.    , 157.    , ..., 151.    , 150.    , 149.    ],\n",
       "       [154.658 , 156.    , 158.    , ..., 152.    , 151.874 , 150.    ],\n",
       "       ...,\n",
       "       [122.48  , 123.96  , 124.81  , ..., 114.09  , 112.874 , 114.    ],\n",
       "       [116.    , 119.86  , 122.    , ..., 114.    , 114.1204, 115.5332],\n",
       "       [121.1444, 128.76  , 123.38  , ..., 115.48  , 109.    , 116.76  ]])"
      ]
     },
     "execution_count": 13,
     "metadata": {},
     "output_type": "execute_result"
    }
   ],
   "source": [
    "resize(camera,(50,50),preserve_range=True)"
   ]
  },
  {
   "cell_type": "code",
   "execution_count": 18,
   "metadata": {},
   "outputs": [
    {
     "data": {
      "text/plain": [
       "array([[156, 156, 157, ..., 153, 153, 151],\n",
       "       [155, 156, 157, ..., 151, 150, 149],\n",
       "       [155, 156, 158, ..., 152, 152, 150],\n",
       "       ...,\n",
       "       [122, 124, 125, ..., 114, 113, 114],\n",
       "       [116, 120, 122, ..., 114, 114, 116],\n",
       "       [121, 129, 123, ..., 115, 109, 117]], dtype=uint8)"
      ]
     },
     "execution_count": 18,
     "metadata": {},
     "output_type": "execute_result"
    }
   ],
   "source": [
    "img_as_ubyte(resize(camera,(50,50),preserve_range=False),)"
   ]
  },
  {
   "cell_type": "markdown",
   "metadata": {},
   "source": [
    "## deprecated"
   ]
  },
  {
   "cell_type": "code",
   "execution_count": 17,
   "metadata": {
    "code_folding": [
     58
    ]
   },
   "outputs": [],
   "source": [
    "#\n",
    "def gui_simple():\n",
    "    def core(camera):\n",
    "\n",
    "        def live(state_widget, camera,image_widget):\n",
    "            while state_widget.value == 'connect':\n",
    "                _, image = camera.read()\n",
    "                if image is not None:\n",
    "                    image_widget.value = bytes(cv2.imencode('.jpg', image)[1])\n",
    "\n",
    "        def flag(change):\n",
    "            nonlocal camera, log\n",
    "            if change['new'] == 'exit':\n",
    "                camera.release()\n",
    "                clear_output()\n",
    "                print(\"program ended properly\")\n",
    "            if change['new'] == 'disconnect':\n",
    "                image_widget.value = bytes(cv2.imencode('.jpg',splash)[1])\n",
    "                camera.release()\n",
    "                log += 'camera disconnected.\\n'\n",
    "                log_widget.value = log\n",
    "            if change['new'] == 'connect':\n",
    "                if camera.isOpened() == False:\n",
    "                    camera = cv2.VideoCapture(0)\n",
    "                    log += 'camera connected.\\n'\n",
    "                    log_widget.value = log\n",
    "                \n",
    "                execute_thread = threading.Thread(target=live, args=(state_widget, camera, image_widget))\n",
    "                execute_thread.start() \n",
    "\n",
    "            if change['new'] == 'pause':\n",
    "                log += 'paused.\\n'\n",
    "                log_widget.value = log\n",
    "            \n",
    "\n",
    "        width = camera.get(cv2.CAP_PROP_FRAME_WIDTH)\n",
    "        height = camera.get(cv2.CAP_PROP_FRAME_HEIGHT)\n",
    "        splash =  cv2.imread(\"./assets/logo.jpg\")\n",
    "        log = \"log\\n\"\n",
    "        fps = 0\n",
    "\n",
    "        state_widget = ipywidgets.ToggleButtons(options=['exit','disconnect','pause', 'connect'], description='', value='pause')\n",
    "        image_widget = ipywidgets.Image(format='jpeg', width=width, height=height,value=bytes(cv2.imencode('.jpg',splash)[1]), layout={'width':'100%'})\n",
    "        log_widget = ipywidgets.Textarea(value=log, layout={'width':'100%'})\n",
    "        \n",
    "        state_widget.observe(flag, names='value')\n",
    "        live_execution_widget = ipywidgets.VBox([\n",
    "            state_widget,\n",
    "            image_widget,\n",
    "            log_widget,\n",
    "        ])\n",
    "\n",
    "        display(live_execution_widget)\n",
    "\n",
    "    camera = cv2.VideoCapture(0)\n",
    "    assert camera.isOpened(), print(\"camera not detected\")\n",
    "    core(camera)\n",
    "    \n",
    "def gui_simple2():\n",
    "    '''\n",
    "    fps\n",
    "    '''\n",
    "    def core(camera):\n",
    "\n",
    "        def live(state_widget, camera,image_widget):\n",
    "            nonlocal fps, q, n_frame\n",
    "            \n",
    "            while state_widget.value == 'connect':\n",
    "                _, image = camera.read()\n",
    "                if image is not None:\n",
    "                    image_widget.value = bytes(cv2.imencode('.jpg', image)[1])\n",
    "                \n",
    "                #calculate fps\n",
    "                now = time.time()\n",
    "                fps = n_frame / (now - q.popleft())\n",
    "                q.append(now)\n",
    "                fps_widget.value = \"fps: \" + str(fps)\n",
    "\n",
    "        def flag(change):\n",
    "            nonlocal camera, log\n",
    "            if change['new'] == 'exit':\n",
    "                camera.release()\n",
    "                clear_output()\n",
    "                print(\"program ended properly\")\n",
    "            if change['new'] == 'disconnect':\n",
    "                image_widget.value = bytes(cv2.imencode('.jpg',splash)[1])\n",
    "                camera.release()\n",
    "                log = str(datetime.datetime.now()) + ' camera disconnected.\\n' + log\n",
    "                log_widget.value = log\n",
    "            if change['new'] == 'connect':\n",
    "                if camera.isOpened() == False:\n",
    "                    camera = cv2.VideoCapture(0)\n",
    "                log =  str(datetime.datetime.now()) + ' streaming.\\n' + log\n",
    "                log_widget.value = log\n",
    "                \n",
    "                execute_thread = threading.Thread(target=live, args=(state_widget, camera, image_widget))\n",
    "                execute_thread.start() \n",
    "\n",
    "            if change['new'] == 'pause':\n",
    "                log =  str(datetime.datetime.now()) + ' paused.\\n' + log\n",
    "                log_widget.value = log\n",
    "            \n",
    "\n",
    "        width = camera.get(cv2.CAP_PROP_FRAME_WIDTH)\n",
    "        height = camera.get(cv2.CAP_PROP_FRAME_HEIGHT)\n",
    "        splash =  cv2.imread(\"./assets/logo.jpg\")\n",
    "        log = \"log\\n\"\n",
    "        fps = 0\n",
    "        n_frame = 3\n",
    "        q = deque([time.time() for i in range(n_frame)])\n",
    "\n",
    "        state_widget = ipywidgets.ToggleButtons(options=['exit','disconnect','pause', 'connect'], description='', value='pause')\n",
    "        image_widget = ipywidgets.Image(format='jpeg',value=bytes(cv2.imencode('.jpg',splash)[1]), layout={'width':'100%'})\n",
    "        log_widget = ipywidgets.Textarea(value=log, layout={'width':'100%'})\n",
    "        fps_widget = ipywidgets.Text(value=\"fps: \"+str(fps))\n",
    "        \n",
    "        state_widget.observe(flag, names='value')\n",
    "        live_execution_widget = ipywidgets.VBox([\n",
    "            state_widget,\n",
    "            fps_widget,\n",
    "            image_widget,\n",
    "            log_widget,\n",
    "        ])\n",
    "\n",
    "        display(live_execution_widget)\n",
    "\n",
    "    camera = cv2.VideoCapture(0)\n",
    "    assert camera.isOpened(), print(\"camera not detected\")\n",
    "    core(camera)\n",
    "    \n",
    "def gui_simple3(image_analysis_func = None):\n",
    "    '''\n",
    "    image analysising function\n",
    "    added gc at exit\n",
    "    '''\n",
    "    def core(camera):\n",
    "\n",
    "        def live(state_widget, camera,image_widget):\n",
    "            nonlocal fps, q, n_frame, log\n",
    "            \n",
    "            while state_widget.value == 'connect':\n",
    "                _, image = camera.read()\n",
    "                if image is not None:\n",
    "                    if (image_analysis_func is not None) and image_analysis_widget.value ==True:\n",
    "                        image = image_analysis_func(image)\n",
    "                        log =  str(datetime.datetime.now()) + ' streaming.\\n' + log\n",
    "                        log_widget.value = log\n",
    "    \n",
    "                    image_widget.value = bytes(cv2.imencode('.jpg', image)[1])\n",
    "                \n",
    "                #calculate fps\n",
    "                now = time.time()\n",
    "                fps = n_frame / (now - q.popleft())\n",
    "                q.append(now)\n",
    "                fps_widget.value = \"fps: \" + str(fps)\n",
    "\n",
    "        def flag(change):\n",
    "            nonlocal camera, log\n",
    "            \n",
    "            if change['new'] == 'exit':\n",
    "                camera.release()\n",
    "                clear_output()\n",
    "                gc.collect()\n",
    "                print(\"program ended properly\")\n",
    "                \n",
    "            if change['new'] == 'disconnect':\n",
    "                image_widget.value = bytes(cv2.imencode('.jpg',splash)[1])\n",
    "                camera.release()\n",
    "                \n",
    "            if change['new'] == 'connect':\n",
    "                if camera.isOpened() == False:\n",
    "                    camera = cv2.VideoCapture(0)\n",
    "\n",
    "                execute_thread = threading.Thread(target=live, args=(state_widget, camera, image_widget))\n",
    "                execute_thread.start() \n",
    "\n",
    "            if change['new'] == 'pause':\n",
    "                pass\n",
    "            \n",
    "\n",
    "        #width = camera.get(cv2.CAP_PROP_FRAME_WIDTH)\n",
    "        #height = camera.get(cv2.CAP_PROP_FRAME_HEIGHT)\n",
    "        splash =  cv2.imread(\"./assets/logo.jpg\")\n",
    "        log = str(datetime.datetime.now())  + \" launched\"\n",
    "        \n",
    "        #fps calculation\n",
    "        fps = 0\n",
    "        n_frame = 3\n",
    "        q = deque([time.time() for i in range(n_frame)])\n",
    "\n",
    "        #widgets\n",
    "        state_widget = ipywidgets.ToggleButtons(options=['exit','disconnect','pause', 'connect'], description='', value='pause')\n",
    "        image_widget = ipywidgets.Image(format='jpeg',value=bytes(cv2.imencode('.jpg',splash)[1]), layout={'width':'100%'})\n",
    "        log_widget = ipywidgets.Textarea(value=log, layout={'width':'100%'})\n",
    "        fps_widget = ipywidgets.Text(value=\"fps: \"+str(fps))\n",
    "        image_analysis_widget = ipywidgets.Checkbox(value=False,description=\"apply image analysis\")\n",
    "        \n",
    "        state_widget.observe(flag, names='value')\n",
    "        live_execution_widget = ipywidgets.VBox([\n",
    "            state_widget,\n",
    "            image_analysis_widget,\n",
    "            fps_widget,\n",
    "            image_widget,\n",
    "            log_widget,\n",
    "        ])\n",
    "\n",
    "        display(live_execution_widget)\n",
    "\n",
    "    camera = cv2.VideoCapture(0)\n",
    "    assert camera.isOpened(), print(\"camera not detected\")\n",
    "    core(camera)\n",
    "    \n",
    "\n",
    "    \n",
    "def gui_simple4(image_analysis_func = None):\n",
    "    '''\n",
    "    image analysising function\n",
    "    '''\n",
    "    \n",
    "    def core(camera):\n",
    "        \n",
    "        def live(state_widget, camera,image_widget):\n",
    "            nonlocal fps, q, n_frame\n",
    "            \n",
    "            while state_widget.value == 'connect':\n",
    "                _, image = camera.read()\n",
    "                if image is not None:\n",
    "                    if (image_analysis_func is not None) and image_analysis_widget.value ==True:\n",
    "                        image,log = image_analysis_func(image)                        \n",
    "                        log_widget.value = str(log)\n",
    "    \n",
    "                    image_widget.value = bytes(cv2.imencode('.jpg', image)[1])\n",
    "                \n",
    "                #calculate fps\n",
    "                now = time.time()\n",
    "                fps = n_frame / (now - q.popleft())\n",
    "                q.append(now)\n",
    "                fps_widget.value = \"fps: \" + str(fps)\n",
    "\n",
    "        def flag(change):\n",
    "            nonlocal camera\n",
    "            \n",
    "            if change['new'] == 'exit':\n",
    "                camera.release()\n",
    "                clear_output()\n",
    "                #gc.collect()\n",
    "                print(\"program ended properly\")\n",
    "                \n",
    "            if change['new'] == 'disconnect':\n",
    "                image_widget.value = bytes(cv2.imencode('.jpg',splash)[1])\n",
    "                camera.release()\n",
    "                \n",
    "            if change['new'] == 'connect':\n",
    "                if camera.isOpened() == False:\n",
    "                    camera = cv2.VideoCapture(0)\n",
    "\n",
    "                execute_thread = threading.Thread(target=live, args=(state_widget, camera, image_widget))\n",
    "                execute_thread.start() \n",
    "\n",
    "            if change['new'] == 'pause':\n",
    "                pass\n",
    "            \n",
    "\n",
    "        #width = camera.get(cv2.CAP_PROP_FRAME_WIDTH)\n",
    "        #height = camera.get(cv2.CAP_PROP_FRAME_HEIGHT)\n",
    "        splash =  cv2.imread(\"./assets/logo.jpg\")\n",
    "        log = []\n",
    "\n",
    "        \n",
    "        #fps calculation\n",
    "        fps = 0\n",
    "        n_frame = 3\n",
    "        q = deque([time.time() for i in range(n_frame)])\n",
    "\n",
    "        #widgets\n",
    "        state_widget = ipywidgets.ToggleButtons(options=['exit','disconnect','pause', 'connect'], description='', value='pause')\n",
    "        image_widget = ipywidgets.Image(format='jpeg',value=bytes(cv2.imencode('.jpg',splash)[1]), layout={'width':'50%'})\n",
    "        log_widget = ipywidgets.Textarea(value=\"\", layout={'width':'100%'})\n",
    "        fps_widget = ipywidgets.Text(value=\"fps: \"+str(fps))\n",
    "        image_analysis_widget = ipywidgets.Checkbox(value=False,description=\"apply image analysis\")\n",
    "        \n",
    "        state_widget.observe(flag, names='value')\n",
    "        live_execution_widget = ipywidgets.VBox([\n",
    "            state_widget,\n",
    "            image_analysis_widget,\n",
    "            fps_widget,\n",
    "            image_widget,\n",
    "            log_widget,\n",
    "        ])\n",
    "\n",
    "        display(live_execution_widget)\n",
    "\n",
    "    camera = cv2.VideoCapture(0)\n",
    "    assert camera.isOpened(), print(\"camera not detected\")\n",
    "    core(camera)\n"
   ]
  },
  {
   "cell_type": "code",
   "execution_count": 8,
   "metadata": {
    "code_folding": [
     8,
     26
    ],
    "scrolled": false
   },
   "outputs": [],
   "source": [
    "def gui_simple5(image_analysis_func = None):\n",
    "    '''\n",
    "    image snap button and frame\n",
    "    1. acquire モードをいれる。change[\"new\"] == acquireがよい？snapボタンがよいかも。\n",
    "    ２．\n",
    "    '''\n",
    "    \n",
    "    def core(camera):\n",
    "        \n",
    "        def live(state_widget, camera,image_widget):\n",
    "            nonlocal fps, q, n_frame\n",
    "            \n",
    "            while state_widget.value == 'connect':\n",
    "                _, image = camera.read()\n",
    "                if image is not None:\n",
    "                    if (image_analysis_func is not None) and image_analysis_widget.value ==True:\n",
    "                        image,log = image_analysis_func(image)                        \n",
    "                        log_widget.value = str(log)\n",
    "    \n",
    "                    image_widget.value = bytes(cv2.imencode('.jpg', image)[1])\n",
    "                \n",
    "                #calculate fps\n",
    "                now = time.time()\n",
    "                fps = n_frame / (now - q.popleft())\n",
    "                q.append(now)\n",
    "                fps_widget.value = \"fps: \" + str(fps)\n",
    "\n",
    "        def flag(change):\n",
    "            nonlocal camera\n",
    "            \n",
    "            if change['new'] == 'exit':\n",
    "                camera.release()\n",
    "                clear_output()\n",
    "                #gc.collect()\n",
    "                print(\"program ended properly\")\n",
    "                \n",
    "            if change['new'] == 'disconnect':\n",
    "                image_widget.value = bytes(cv2.imencode('.jpg',splash)[1])\n",
    "                camera.release()\n",
    "                \n",
    "            if change['new'] == 'connect':\n",
    "                if camera.isOpened() == False:\n",
    "                    camera = cv2.VideoCapture(0)\n",
    "\n",
    "                execute_thread = threading.Thread(target=live, args=(state_widget, camera, image_widget))\n",
    "                execute_thread.start() \n",
    "\n",
    "            if change['new'] == 'pause':\n",
    "                pass\n",
    "            \n",
    "\n",
    "        #width = camera.get(cv2.CAP_PROP_FRAME_WIDTH)\n",
    "        #height = camera.get(cv2.CAP_PROP_FRAME_HEIGHT)\n",
    "        splash =  cv2.imread(\"./assets/logo.jpg\")\n",
    "        log = []\n",
    "\n",
    "        \n",
    "        #fps calculation\n",
    "        fps = 0\n",
    "        n_frame = 3\n",
    "        q = deque([time.time() for i in range(n_frame)])\n",
    "\n",
    "        #widgets\n",
    "        state_widget = ipywidgets.ToggleButtons(options=['exit','disconnect','pause', 'connect'], description='', value='pause')\n",
    "        image_widget = ipywidgets.Image(format='jpeg',value=bytes(cv2.imencode('.jpg',splash)[1]), layout={'width':'80%'})\n",
    "        log_widget = ipywidgets.Textarea(value=\"\", layout={'width':'100%'})\n",
    "        fps_widget = ipywidgets.Text(value=\"fps: \"+str(fps))\n",
    "        image_analysis_widget = ipywidgets.Checkbox(value=False,description=\"apply image analysis\")\n",
    "        \n",
    "        state_widget.observe(flag, names='value')\n",
    "        live_execution_widget = ipywidgets.VBox([\n",
    "            state_widget,\n",
    "            image_analysis_widget,\n",
    "            fps_widget,\n",
    "            image_widget,\n",
    "            log_widget,\n",
    "        ])\n",
    "\n",
    "        display(live_execution_widget)\n",
    "\n",
    "    camera = cv2.VideoCapture(0)\n",
    "    assert camera.isOpened(), print(\"camera not detected\")\n",
    "    core(camera)\n"
   ]
  },
  {
   "cell_type": "code",
   "execution_count": null,
   "metadata": {},
   "outputs": [],
   "source": []
  },
  {
   "cell_type": "markdown",
   "metadata": {},
   "source": [
    "## Image analysis\n"
   ]
  },
  {
   "cell_type": "markdown",
   "metadata": {},
   "source": [
    "## convert color"
   ]
  },
  {
   "cell_type": "code",
   "execution_count": 12,
   "metadata": {},
   "outputs": [],
   "source": [
    "from skimage.color import rgb2gray\n",
    "\n",
    "\n",
    "def image_analysis(image):\n",
    "    '''\n",
    "    input image is a BGR image with a dtype of uint8 from cv2.VideoCapture\n",
    "    image to be returned should also be a BGR of uint8.\n",
    "    becareful if you use skimage, as they prefer float.\n",
    "    '''\n",
    "    image = cv2.cvtColor(image, cv2.COLOR_BGR2GRAY)  #convert to grayscale image\n",
    "    return image\n"
   ]
  },
  {
   "cell_type": "code",
   "execution_count": 13,
   "metadata": {},
   "outputs": [
    {
     "name": "stdout",
     "output_type": "stream",
     "text": [
      "program ended properly\n"
     ]
    }
   ],
   "source": [
    "gui_simple3(image_analysis)"
   ]
  },
  {
   "cell_type": "markdown",
   "metadata": {},
   "source": [
    "## Classification"
   ]
  },
  {
   "cell_type": "markdown",
   "metadata": {},
   "source": [
    "### resize"
   ]
  },
  {
   "cell_type": "code",
   "execution_count": 14,
   "metadata": {},
   "outputs": [],
   "source": [
    "import tensorflow as tf\n",
    "\n",
    "import tensorflow.keras.backend as K\n",
    "from tensorflow.keras.applications.mobilenet_v2 import MobileNetV2, preprocess_input, decode_predictions"
   ]
  },
  {
   "cell_type": "code",
   "execution_count": 15,
   "metadata": {},
   "outputs": [],
   "source": [
    "K.clear_session()\n",
    "model = MobileNetV2(input_shape=(224,224,3),weights=\"imagenet\")"
   ]
  },
  {
   "cell_type": "code",
   "execution_count": 16,
   "metadata": {},
   "outputs": [],
   "source": [
    "def classification(image):\n",
    "\n",
    "    x = image.copy()\n",
    "    \n",
    "    x = cv2.resize(x,(224,224))\n",
    "    x = preprocess_input(x)[np.newaxis,...]\n",
    "    preds = model.predict(x)\n",
    "    labels = decode_predictions(preds)\n",
    "    toplabel = labels[0][0]\n",
    "    \n",
    "    return image, toplabel\n",
    "    \n",
    "    \n",
    "    "
   ]
  },
  {
   "cell_type": "code",
   "execution_count": 18,
   "metadata": {
    "scrolled": false
   },
   "outputs": [
    {
     "data": {
      "application/vnd.jupyter.widget-view+json": {
       "model_id": "4a38a1c7c7504840a48f2fe0a536198f",
       "version_major": 2,
       "version_minor": 0
      },
      "text/plain": [
       "VBox(children=(ToggleButtons(index=2, options=('exit', 'disconnect', 'pause', 'connect'), value='pause'), Chec…"
      ]
     },
     "metadata": {},
     "output_type": "display_data"
    }
   ],
   "source": [
    "gui_simple4(classification)"
   ]
  },
  {
   "cell_type": "markdown",
   "metadata": {},
   "source": [
    "### crop and resize"
   ]
  },
  {
   "cell_type": "code",
   "execution_count": 15,
   "metadata": {},
   "outputs": [],
   "source": [
    "def classification2(image):\n",
    "    \n",
    "    def get_center(img,cropx,cropy):\n",
    "            y,x,_ = img.shape\n",
    "            startx = x//2-(cropx//2)\n",
    "            starty = y//2-(cropy//2)    \n",
    "            return starty, startx\n",
    "        \n",
    "    x = image.copy()\n",
    "    \n",
    "    \n",
    "    height, width = x.shape[0], x.shape[1]\n",
    "    l = min([height,width])\n",
    "    toplefty, topleftx = get_center(x,l,l)   \n",
    "    \n",
    "    x = x[toplefty:toplefty+l,topleftx:topleftx+l,:]\n",
    "    \n",
    "    x = cv2.resize(x,(224,224))\n",
    "    #x = crop_center(image,224,224)\n",
    "    x = preprocess_input(x)[np.newaxis,...]\n",
    "    preds = model.predict(x)\n",
    "    labels = decode_predictions(preds)\n",
    "    toplabel = labels[0][0]\n",
    "    \n",
    "    \n",
    "    #draw a rectangle on the input image to highlight the input area used in the NN\n",
    "    image = cv2.rectangle(image,(topleftx,toplefty),(topleftx+l,topleftx+l),(0,255,0),3)\n",
    "    \n",
    "    return image, toplabel\n",
    "    \n",
    "    \n",
    "    "
   ]
  },
  {
   "cell_type": "code",
   "execution_count": 17,
   "metadata": {},
   "outputs": [
    {
     "name": "stdout",
     "output_type": "stream",
     "text": [
      "program ended properly\n"
     ]
    }
   ],
   "source": [
    "gui_simple4(classification2)"
   ]
  },
  {
   "cell_type": "code",
   "execution_count": null,
   "metadata": {},
   "outputs": [],
   "source": [
    "#object detectionはtensorflow object detection apiまわりが必要"
   ]
  },
  {
   "cell_type": "code",
   "execution_count": 33,
   "metadata": {},
   "outputs": [
    {
     "name": "stdout",
     "output_type": "stream",
     "text": [
      "Cloning into 'models'...\n",
      "remote: Enumerating objects: 2797, done.\u001b[K\n",
      "remote: Counting objects: 100% (2797/2797), done.\u001b[K\n",
      "remote: Compressing objects: 100% (2439/2439), done.\u001b[K\n",
      "remote: Total 2797 (delta 563), reused 1412 (delta 322), pack-reused 0\u001b[K\n",
      "Receiving objects: 100% (2797/2797), 57.74 MiB | 583.00 KiB/s, done.\n",
      "Resolving deltas: 100% (563/563), done.\n",
      "Checking out files: 100% (2687/2687), done.\n"
     ]
    }
   ],
   "source": [
    "import os\n",
    "import pathlib\n",
    "\n",
    "# Clone the tensorflow models repository if it doesn't already exist\n",
    "if \"models\" in pathlib.Path.cwd().parts:\n",
    "    while \"models\" in pathlib.Path.cwd().parts:\n",
    "        os.chdir('..')\n",
    "elif not pathlib.Path('models').exists():\n",
    "    !git clone --depth 1 https://github.com/tensorflow/models"
   ]
  },
  {
   "cell_type": "code",
   "execution_count": 32,
   "metadata": {},
   "outputs": [
    {
     "name": "stdout",
     "output_type": "stream",
     "text": [
      "--2020-07-20 22:17:18--  http://download.tensorflow.org/models/object_detection/tf2/20200711/ssd_mobilenet_v2_fpnlite_640x640_coco17_tpu-8.tar.gz\n",
      "Resolving download.tensorflow.org (download.tensorflow.org)... 2404:6800:4004:81f::2010, 172.217.31.144\n",
      "Connecting to download.tensorflow.org (download.tensorflow.org)|2404:6800:4004:81f::2010|:80... connected.\n",
      "HTTP request sent, awaiting response... 200 OK\n",
      "Length: 20518283 (20M) [application/x-tar]\n",
      "Saving to: ‘ssd_mobilenet_v2_fpnlite_640x640_coco17_tpu-8.tar.gz’\n",
      "\n",
      "ssd_mobilenet_v2_fp 100%[===================>]  19.57M   507KB/s    in 40s     \n",
      "\n",
      "2020-07-20 22:17:58 (501 KB/s) - ‘ssd_mobilenet_v2_fpnlite_640x640_coco17_tpu-8.tar.gz’ saved [20518283/20518283]\n",
      "\n"
     ]
    }
   ],
   "source": [
    "#get pretrained model from tensorflow object detection api\n",
    "!wget -nc http://download.tensorflow.org/models/object_detection/tf2/20200711/ssd_mobilenet_v2_fpnlite_640x640_coco17_tpu-8.tar.gz"
   ]
  },
  {
   "cell_type": "code",
   "execution_count": null,
   "metadata": {},
   "outputs": [],
   "source": []
  }
 ],
 "metadata": {
  "kernelspec": {
   "display_name": "Python 3",
   "language": "python",
   "name": "python3"
  },
  "language_info": {
   "codemirror_mode": {
    "name": "ipython",
    "version": 3
   },
   "file_extension": ".py",
   "mimetype": "text/x-python",
   "name": "python",
   "nbconvert_exporter": "python",
   "pygments_lexer": "ipython3",
   "version": "3.6.9"
  },
  "toc": {
   "base_numbering": 1,
   "nav_menu": {},
   "number_sections": true,
   "sideBar": true,
   "skip_h1_title": false,
   "title_cell": "Table of Contents",
   "title_sidebar": "Contents",
   "toc_cell": false,
   "toc_position": {
    "height": "calc(100% - 180px)",
    "left": "10px",
    "top": "150px",
    "width": "315.98px"
   },
   "toc_section_display": true,
   "toc_window_display": true
  }
 },
 "nbformat": 4,
 "nbformat_minor": 4
}

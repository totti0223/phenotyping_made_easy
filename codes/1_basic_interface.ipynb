{
 "cells": [
  {
   "cell_type": "markdown",
   "metadata": {},
   "source": [
    "# basic interface"
   ]
  },
  {
   "cell_type": "code",
   "execution_count": 1,
   "metadata": {},
   "outputs": [],
   "source": [
    "import threading\n",
    "\n",
    "from IPython.display import display,Image, clear_output\n",
    "import ipywidgets\n",
    "\n",
    "import numpy as np\n",
    "import cv2\n"
   ]
  },
  {
   "cell_type": "code",
   "execution_count": 6,
   "metadata": {
    "code_folding": []
   },
   "outputs": [],
   "source": [
    "def gui():\n",
    "    \n",
    "    def core(camera):\n",
    "\n",
    "        def live(state_widget, camera,image_widget):\n",
    "            while state_widget.value == 'connect':\n",
    "                _, image = camera.read()\n",
    "                if image is not None:\n",
    "                    image_widget.value = bytes(cv2.imencode('.jpg', image)[1])\n",
    "\n",
    "        def flag(change):\n",
    "            nonlocal camera, log\n",
    "            if change['new'] == 'exit':\n",
    "                camera.release()\n",
    "                clear_output()\n",
    "                print(\"program ended properly\")\n",
    "            if change['new'] == 'disconnect':\n",
    "                image_widget.value = bytes(cv2.imencode('.jpg',splash)[1])\n",
    "                camera.release()\n",
    "                log += 'camera disconnected.\\n'\n",
    "                log_widget.value = log\n",
    "            if change['new'] == 'connect':\n",
    "                if camera.isOpened() == False:\n",
    "                    camera = cv2.VideoCapture(0)\n",
    "                    log += 'camera connected.\\n'\n",
    "                    log_widget.value = log\n",
    "                \n",
    "                execute_thread = threading.Thread(target=live, args=(state_widget, camera, image_widget))\n",
    "                execute_thread.start() \n",
    "\n",
    "            if change['new'] == 'pause':\n",
    "                log += 'paused.\\n'\n",
    "                log_widget.value = log\n",
    "            \n",
    "\n",
    "        width = camera.get(cv2.CAP_PROP_FRAME_WIDTH)\n",
    "        height = camera.get(cv2.CAP_PROP_FRAME_HEIGHT)\n",
    "        \n",
    "        \n",
    "        #splash =  cv2.imread(\"./assets/logo.jpg\")\n",
    "        splash = np.zeros((50,100,3),dtype=np.uint8)\n",
    "        log = \"log\\n\"\n",
    "        fps = 0\n",
    "\n",
    "        state_widget = ipywidgets.ToggleButtons(options=['exit','disconnect','pause', 'connect'], description='', value='pause')\n",
    "        image_widget = ipywidgets.Image(format='jpeg', width=width, height=height,value=bytes(cv2.imencode('.jpg',splash)[1]), layout={'width':'100%'})\n",
    "        log_widget = ipywidgets.Textarea(value=log, layout={'width':'100%'})\n",
    "        \n",
    "        state_widget.observe(flag, names='value')\n",
    "        live_execution_widget = ipywidgets.VBox([\n",
    "            state_widget,\n",
    "            image_widget,\n",
    "            log_widget,\n",
    "        ])\n",
    "\n",
    "        display(live_execution_widget)\n",
    "\n",
    "    camera = cv2.VideoCapture(0)\n",
    "    assert camera.isOpened(), print(\"camera not detected\")\n",
    "    core(camera)"
   ]
  },
  {
   "cell_type": "code",
   "execution_count": 7,
   "metadata": {},
   "outputs": [
    {
     "name": "stdout",
     "output_type": "stream",
     "text": [
      "program ended properly\n"
     ]
    }
   ],
   "source": [
    "gui()"
   ]
  },
  {
   "cell_type": "code",
   "execution_count": null,
   "metadata": {},
   "outputs": [],
   "source": []
  }
 ],
 "metadata": {
  "kernelspec": {
   "display_name": "microscope",
   "language": "python",
   "name": "microscope"
  },
  "language_info": {
   "codemirror_mode": {
    "name": "ipython",
    "version": 3
   },
   "file_extension": ".py",
   "mimetype": "text/x-python",
   "name": "python",
   "nbconvert_exporter": "python",
   "pygments_lexer": "ipython3",
   "version": "3.6.9"
  },
  "toc": {
   "base_numbering": 1,
   "nav_menu": {},
   "number_sections": true,
   "sideBar": true,
   "skip_h1_title": false,
   "title_cell": "Table of Contents",
   "title_sidebar": "Contents",
   "toc_cell": false,
   "toc_position": {},
   "toc_section_display": true,
   "toc_window_display": true
  }
 },
 "nbformat": 4,
 "nbformat_minor": 4
}

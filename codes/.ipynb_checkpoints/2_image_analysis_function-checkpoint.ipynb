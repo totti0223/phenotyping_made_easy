{
 "cells": [
  {
   "cell_type": "markdown",
   "metadata": {},
   "source": [
    "# Adding your own Image Analysis function"
   ]
  },
  {
   "cell_type": "code",
   "execution_count": 1,
   "metadata": {},
   "outputs": [],
   "source": [
    "import threading\n",
    "\n",
    "from IPython.display import display,Image, clear_output\n",
    "import ipywidgets\n",
    "\n",
    "import numpy as np\n",
    "import cv2\n",
    "from collections import deque\n",
    "import skimage\n",
    "import time"
   ]
  },
  {
   "cell_type": "markdown",
   "metadata": {},
   "source": [
    "## Basic"
   ]
  },
  {
   "cell_type": "code",
   "execution_count": 2,
   "metadata": {},
   "outputs": [],
   "source": [
    "def gui_simple(image_analysis_func = None):\n",
    "    \n",
    "    def core(camera):\n",
    "        def _wrapper(func,image):\n",
    "            '''\n",
    "            wrapper of a image analysis function so that image, log will always be outputed\n",
    "            '''\n",
    "            ret = func(image)\n",
    "            if type(ret).__module__ == np.__name__: # if returned value is a numpy (which means, image only)\n",
    "                log = \"\" # pseudo log value\n",
    "                image = ret\n",
    "            elif type(ret) == tuple: # if returned value is multiple, ex. image, log \n",
    "                image, log = ret            \n",
    "            return image, log\n",
    "        \n",
    "        def live(state_widget, camera,image_widget):\n",
    "            nonlocal fps, q, n_frame, log,image\n",
    "            \n",
    "            while state_widget.value == 'connect':\n",
    "                _, image = camera.read()\n",
    "                if image is not None:\n",
    "                    if (image_analysis_func is not None) and image_analysis_widget.value ==True:\n",
    "                        image, log = _wrapper(image_analysis_func, image)                        \n",
    "                        log_widget.value = str(log)\n",
    "                    image_widget.value = bytes(cv2.imencode('.jpg', image)[1])\n",
    "                \n",
    "                #calculate fps\n",
    "                now = time.time()\n",
    "                fps = n_frame / (now - q.popleft())\n",
    "                q.append(now)\n",
    "                fps_widget.value = \"fps: \" + str(fps)\n",
    "\n",
    "        def flag(change):\n",
    "            nonlocal camera\n",
    "            \n",
    "            if change['new'] == 'exit':\n",
    "                camera.release()\n",
    "                clear_output()\n",
    "                #gc.collect()\n",
    "                print(\"program ended properly\")\n",
    "                \n",
    "            if change['new'] == 'disconnect':\n",
    "                image_widget.value = bytes(cv2.imencode('.jpg',image)[1])\n",
    "                camera.release()\n",
    "                \n",
    "            if change['new'] == 'connect':\n",
    "                if camera.isOpened() == False:\n",
    "                    camera = cv2.VideoCapture(0)\n",
    "\n",
    "                execute_thread = threading.Thread(target=live, args=(state_widget, camera, image_widget))\n",
    "                execute_thread.start() \n",
    "\n",
    "            if change['new'] == 'pause':\n",
    "                pass\n",
    "            \n",
    "\n",
    "        #width = camera.get(cv2.CAP_PROP_FRAME_WIDTH)\n",
    "        #height = camera.get(cv2.CAP_PROP_FRAME_HEIGHT)\n",
    "        #splash =  cv2.imread(\"../codes/assets/logo.jpg\")\n",
    "        splash = skimage.data.camera()[...,::-1]\n",
    "        log = []\n",
    "\n",
    "        \n",
    "        #fps calculation\n",
    "        fps = 0\n",
    "        n_frame = 3\n",
    "        q = deque([time.time() for i in range(n_frame)])\n",
    "        image = splash\n",
    "\n",
    "        #widgets\n",
    "        state_widget = ipywidgets.ToggleButtons(options=['exit','disconnect','pause', 'connect'], description='', value='pause')\n",
    "        image_widget = ipywidgets.Image(format='jpeg',value=bytes(cv2.imencode('.jpg',image)[1]), layout={'width':'50%'})\n",
    "        log_widget = ipywidgets.Textarea(value=\"\", layout={'width':'50%'})\n",
    "        fps_widget = ipywidgets.Text(value=\"fps: \"+str(fps))\n",
    "        image_analysis_widget = ipywidgets.Checkbox(value=False,description=\"apply image analysis\")\n",
    "        \n",
    "        state_widget.observe(flag, names='value')\n",
    "        live_execution_widget = ipywidgets.VBox([\n",
    "            state_widget,\n",
    "            image_analysis_widget,\n",
    "            fps_widget,\n",
    "            image_widget,\n",
    "            log_widget,\n",
    "        ])\n",
    "\n",
    "        display(live_execution_widget)\n",
    "\n",
    "    camera = cv2.VideoCapture(0)\n",
    "    assert camera.isOpened(), print(\"camera not detected\")\n",
    "    core(camera)\n"
   ]
  },
  {
   "cell_type": "code",
   "execution_count": 3,
   "metadata": {},
   "outputs": [],
   "source": [
    "def image_filter(image):\n",
    "    '''\n",
    "    input image is a BGR image with a dtype of uint8 from cv2.VideoCapture\n",
    "    image to be returned should also be a BGR of uint8.\n",
    "    becareful if you use skimage function, as they prefer float.\n",
    "    the returned value should be\n",
    "        image (height,width,channel)\n",
    "        or\n",
    "        image and string(for logging inthe log window)\n",
    "    '''\n",
    "    image = cv2.cvtColor(image, cv2.COLOR_BGR2GRAY)  #convert to grayscale image\n",
    "    return image\n"
   ]
  },
  {
   "cell_type": "code",
   "execution_count": 4,
   "metadata": {},
   "outputs": [
    {
     "data": {
      "application/vnd.jupyter.widget-view+json": {
       "model_id": "225dca567ba044799617c54ed12a6d4a",
       "version_major": 2,
       "version_minor": 0
      },
      "text/plain": [
       "VBox(children=(ToggleButtons(index=2, options=('exit', 'disconnect', 'pause', 'connect'), value='pause'), Chec…"
      ]
     },
     "metadata": {},
     "output_type": "display_data"
    }
   ],
   "source": [
    "gui_simple(image_filter)"
   ]
  },
  {
   "cell_type": "markdown",
   "metadata": {},
   "source": [
    "## CNN classification"
   ]
  },
  {
   "cell_type": "code",
   "execution_count": 5,
   "metadata": {},
   "outputs": [],
   "source": [
    "import tensorflow as tf\n",
    "\n",
    "import tensorflow.keras.backend as K\n",
    "from tensorflow.keras.applications.mobilenet_v2 import MobileNetV2, preprocess_input, decode_predictions\n",
    "K.clear_session()\n",
    "model = MobileNetV2(input_shape=(160,160,3),weights=\"imagenet\")"
   ]
  },
  {
   "cell_type": "code",
   "execution_count": 6,
   "metadata": {},
   "outputs": [],
   "source": [
    "def classification(image):    \n",
    "    '''\n",
    "    - crop the center of the camera image, resize to 160,160 -> feed to mobilenetV2\n",
    "    - draw a rectangle where the image region was used for clarity      \n",
    "    '''\n",
    "    \n",
    "    \n",
    "    def get_center(img,cropx,cropy):\n",
    "        y,x,_ = img.shape\n",
    "        startx = x//2-(cropx//2)\n",
    "        starty = y//2-(cropy//2)    \n",
    "        return starty, startx\n",
    "        \n",
    "    x = image.copy()\n",
    "    \n",
    "    height, width = x.shape[0], x.shape[1]\n",
    "    l = min([height,width])\n",
    "    toplefty, topleftx = get_center(x,l,l)   \n",
    "    \n",
    "    x = x[toplefty:toplefty+l,topleftx:topleftx+l,:]\n",
    "    \n",
    "    x = cv2.resize(x,(160,160))\n",
    "    #x = crop_center(image,224,224)\n",
    "    x = preprocess_input(x)[np.newaxis,...]\n",
    "    preds = model.predict(x)\n",
    "    labels = decode_predictions(preds)\n",
    "    toplabel = labels[0][0]\n",
    "    \n",
    "    \n",
    "    #draw a rectangle on the input image to highlight the input area used in the NN\n",
    "    image = cv2.rectangle(image,(topleftx,toplefty),(topleftx+l,topleftx+l),(0,255,0),3)\n",
    "    \n",
    "    return image, toplabel"
   ]
  },
  {
   "cell_type": "code",
   "execution_count": 8,
   "metadata": {},
   "outputs": [
    {
     "data": {
      "application/vnd.jupyter.widget-view+json": {
       "model_id": "04fdc162a411403ca9c344d6cb3eb6ed",
       "version_major": 2,
       "version_minor": 0
      },
      "text/plain": [
       "VBox(children=(ToggleButtons(index=2, options=('exit', 'disconnect', 'pause', 'connect'), value='pause'), Chec…"
      ]
     },
     "metadata": {},
     "output_type": "display_data"
    }
   ],
   "source": [
    "gui_simple(classification)"
   ]
  }
 ],
 "metadata": {
  "kernelspec": {
   "display_name": "microscope",
   "language": "python",
   "name": "microscope"
  },
  "language_info": {
   "codemirror_mode": {
    "name": "ipython",
    "version": 3
   },
   "file_extension": ".py",
   "mimetype": "text/x-python",
   "name": "python",
   "nbconvert_exporter": "python",
   "pygments_lexer": "ipython3",
   "version": "3.6.9"
  },
  "toc": {
   "base_numbering": 1,
   "nav_menu": {},
   "number_sections": true,
   "sideBar": true,
   "skip_h1_title": false,
   "title_cell": "Table of Contents",
   "title_sidebar": "Contents",
   "toc_cell": false,
   "toc_position": {},
   "toc_section_display": true,
   "toc_window_display": true
  }
 },
 "nbformat": 4,
 "nbformat_minor": 4
}
